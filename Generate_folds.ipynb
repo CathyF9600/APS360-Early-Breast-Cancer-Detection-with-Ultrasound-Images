{
  "nbformat": 4,
  "nbformat_minor": 0,
  "metadata": {
    "colab": {
      "provenance": []
    },
    "kernelspec": {
      "name": "python3",
      "display_name": "Python 3"
    },
    "language_info": {
      "name": "python"
    }
  },
  "cells": [
    {
      "cell_type": "markdown",
      "source": [
        "This was the notebook that generated the other 3 folds (after fld 1 had been generated in the main training script on the first run of training). Throught this script, only the images in the train/validation section are touched, leaving the test set images the same and unseen by the model during training and validation."
      ],
      "metadata": {
        "id": "Bj0KNoQH_Kmx"
      }
    },
    {
      "cell_type": "code",
      "execution_count": null,
      "metadata": {
        "id": "I98K8EkY1bPJ"
      },
      "outputs": [],
      "source": [
        "path_to_APS360_Project = \"/content/drive/MyDrive/\"\n"
      ]
    },
    {
      "cell_type": "code",
      "source": [
        "import torch\n",
        "import numpy as np\n",
        "\n",
        "\n",
        "import torch.nn as nn\n",
        "import torch.nn.functional as F\n",
        "import matplotlib.pyplot as plt\n",
        "import torch.optim as optim\n",
        "import torchvision\n",
        "import torchvision.transforms as transforms\n",
        "from torch.utils.data import random_split, DataLoader\n",
        "from torch.utils import data\n",
        "\n",
        "from skimage.io import imread\n",
        "import os\n",
        "\n",
        "import time\n",
        "import matplotlib.pyplot as plt\n",
        "\n",
        "from PIL import Image\n",
        "import albumentations as A\n",
        "import random\n",
        "import cv2"
      ],
      "metadata": {
        "id": "GhUp0Th91fKi"
      },
      "execution_count": null,
      "outputs": []
    },
    {
      "cell_type": "code",
      "source": [
        "from google.colab import drive\n",
        "drive.mount('/content/drive')"
      ],
      "metadata": {
        "colab": {
          "base_uri": "https://localhost:8080/"
        },
        "id": "1EA9GDnc1gbP",
        "outputId": "b1820b4c-82e9-4631-d4fc-6f8bb7cbd2ad"
      },
      "execution_count": null,
      "outputs": [
        {
          "output_type": "stream",
          "name": "stdout",
          "text": [
            "Mounted at /content/drive\n"
          ]
        }
      ]
    },
    {
      "cell_type": "code",
      "source": [
        "inps = os.listdir(os.path.join(path_to_APS360_Project, \"APS360_Project/Dataset/t_image\"))\n",
        "len(inps)"
      ],
      "metadata": {
        "colab": {
          "base_uri": "https://localhost:8080/"
        },
        "id": "UERPIjKn1hsa",
        "outputId": "87cd3e5d-b177-4336-aa10-5a7cfb2f6e0a"
      },
      "execution_count": null,
      "outputs": [
        {
          "output_type": "execute_result",
          "data": {
            "text/plain": [
              "647"
            ]
          },
          "metadata": {},
          "execution_count": 4
        }
      ]
    },
    {
      "cell_type": "code",
      "source": [
        "img_root = os.path.join(path_to_APS360_Project, \"APS360_Project/Dataset/t_image\") #\"/content/drive/MyDrive/APS360_Project/Dummy_data/images\"\n",
        "mask_root = os.path.join(path_to_APS360_Project,\"APS360_Project/Dataset/t_masked\") # \"/content/drive/MyDrive/APS360_Project/Dummy_data/masks\"\n",
        "# dset = SegmentationDataSet(inps, img_root, mask_root, train_aug)"
      ],
      "metadata": {
        "id": "oUcljjV97IDk"
      },
      "execution_count": null,
      "outputs": []
    },
    {
      "cell_type": "code",
      "source": [
        "fold1train = []"
      ],
      "metadata": {
        "id": "Ls5NKKQ527mr"
      },
      "execution_count": null,
      "outputs": []
    },
    {
      "cell_type": "code",
      "source": [
        "# s = \"347_1.png\"\n",
        "# s.split(\"_1\")"
      ],
      "metadata": {
        "colab": {
          "base_uri": "https://localhost:8080/"
        },
        "id": "tGWIuRYg28tW",
        "outputId": "5e847e84-ee8f-4e0f-f26d-d58949233c5c"
      },
      "execution_count": null,
      "outputs": [
        {
          "output_type": "execute_result",
          "data": {
            "text/plain": [
              "['347', '.png']"
            ]
          },
          "metadata": {},
          "execution_count": 6
        }
      ]
    },
    {
      "cell_type": "code",
      "source": [
        "\n",
        "for f in os.listdir(\"/content/drive/MyDrive/APS360_Project/Dataset_Expanded/Train/images\"):\n",
        "  if (\"_1\" in f):\n",
        "    f = f.split(\"_1\")\n",
        "    f = f[0] + f[1]\n",
        "    fold1train.append(f)\n",
        "  "
      ],
      "metadata": {
        "id": "wg52cYpk2d_X"
      },
      "execution_count": null,
      "outputs": []
    },
    {
      "cell_type": "code",
      "source": [
        "len(fold1train)"
      ],
      "metadata": {
        "colab": {
          "base_uri": "https://localhost:8080/"
        },
        "id": "PQfTOjIs3c8m",
        "outputId": "1b553a6c-cc2d-45d8-a92b-037deee37c5a"
      },
      "execution_count": null,
      "outputs": [
        {
          "output_type": "execute_result",
          "data": {
            "text/plain": [
              "388"
            ]
          },
          "metadata": {},
          "execution_count": 8
        }
      ]
    },
    {
      "cell_type": "code",
      "source": [
        "fold1valid = os.listdir(\"/content/drive/MyDrive/APS360_Project/Dataset_Expanded/Valid/images\")\n",
        "len(fold1valid)"
      ],
      "metadata": {
        "colab": {
          "base_uri": "https://localhost:8080/"
        },
        "id": "TCNK2cbV3plH",
        "outputId": "47806c5d-9e28-4438-cfe7-53f89d6bb106"
      },
      "execution_count": null,
      "outputs": [
        {
          "output_type": "execute_result",
          "data": {
            "text/plain": [
              "129"
            ]
          },
          "metadata": {},
          "execution_count": 9
        }
      ]
    },
    {
      "cell_type": "code",
      "source": [
        "fold1train.extend(fold1valid)\n",
        "len(fold1train)"
      ],
      "metadata": {
        "colab": {
          "base_uri": "https://localhost:8080/"
        },
        "id": "4S7NhbNw31Gy",
        "outputId": "fdefc423-3bbc-4b3f-c90a-67a1388ac15d"
      },
      "execution_count": null,
      "outputs": [
        {
          "output_type": "execute_result",
          "data": {
            "text/plain": [
              "517"
            ]
          },
          "metadata": {},
          "execution_count": 10
        }
      ]
    },
    {
      "cell_type": "code",
      "source": [
        "valid_size = len(fold1valid)\n",
        "valid_size\n"
      ],
      "metadata": {
        "colab": {
          "base_uri": "https://localhost:8080/"
        },
        "id": "oKNkVatl4amU",
        "outputId": "67777e99-3332-4f68-9751-e5ac53741aaa"
      },
      "execution_count": null,
      "outputs": [
        {
          "output_type": "execute_result",
          "data": {
            "text/plain": [
              "129"
            ]
          },
          "metadata": {},
          "execution_count": 11
        }
      ]
    },
    {
      "cell_type": "code",
      "source": [
        "not_test = np.array(fold1train)\n",
        "not_test.shape"
      ],
      "metadata": {
        "colab": {
          "base_uri": "https://localhost:8080/"
        },
        "id": "hgf2ODTe4tTs",
        "outputId": "3397efd9-5b76-49d4-efd1-e04a9b3fde77"
      },
      "execution_count": null,
      "outputs": [
        {
          "output_type": "execute_result",
          "data": {
            "text/plain": [
              "(517,)"
            ]
          },
          "metadata": {},
          "execution_count": 12
        }
      ]
    },
    {
      "cell_type": "code",
      "source": [
        "#generating fold 2:\n",
        "fold2train = np.concatenate((not_test[:2*valid_size], not_test[3*valid_size:]))\n",
        "fold2valid = not_test[2*valid_size:3*valid_size]\n",
        "print(fold2train.shape)\n",
        "print(fold2valid.shape)\n"
      ],
      "metadata": {
        "colab": {
          "base_uri": "https://localhost:8080/"
        },
        "id": "ybCGRXzf4l0f",
        "outputId": "7c070d75-8182-4187-b2e4-3e3e77e5bc17"
      },
      "execution_count": null,
      "outputs": [
        {
          "output_type": "stream",
          "name": "stdout",
          "text": [
            "(388,)\n",
            "(129,)\n"
          ]
        }
      ]
    },
    {
      "cell_type": "code",
      "source": [
        "foldimg = \"/content/drive/MyDrive/APS360_Project/Dataset_Expanded/Fold2/Train/images/\"\n",
        "foldmask = \"/content/drive/MyDrive/APS360_Project/Dataset_Expanded/Fold2/Train/masks/\"\n",
        "\n",
        "for input_ID in fold2train:\n",
        "  # print(input_ID)\n",
        "  idx = input_ID.split('.')[0] \n",
        "  img_path = os.path.join(img_root, input_ID) #may need to add in .png at end\n",
        "  img_1 = cv2.imread(img_path,  cv2.IMREAD_GRAYSCALE)\n",
        "\n",
        "  mask_path = os.path.join(mask_root, input_ID) \n",
        "  mask_1 = cv2.imread(mask_path,  cv2.IMREAD_GRAYSCALE)#Image.open(mask_path).convert(\"L\") #grayscale\n",
        "\n",
        "  cv2.imwrite(foldimg+idx+\"_1.png\", img_1)\n",
        "  cv2.imwrite(foldmask+idx+\"_1.png\", mask_1)\n",
        "\n",
        "  aug1 = A.HorizontalFlip(p=1.0)\n",
        "  aug = aug1(image=img_1, mask=mask_1)\n",
        "  img_2 = aug[\"image\"]\n",
        "  mask_2 = aug[\"mask\"]\n",
        "  cv2.imwrite(foldimg+idx+\"_2.png\", img_2)\n",
        "  cv2.imwrite(foldmask+idx+\"_2.png\", mask_2)\n",
        "\n",
        "  aug2 = A.VerticalFlip(p=1.0)\n",
        "  aug = aug2(image=img_1, mask=mask_1)\n",
        "  img_3 = aug[\"image\"]\n",
        "  mask_3 = aug[\"mask\"]\n",
        "\n",
        "  cv2.imwrite(foldimg+idx+\"_3.png\", img_3)\n",
        "  cv2.imwrite(foldmask+idx+\"_3.png\", mask_3)\n",
        "\n",
        "  img_4 = cv2.rotate(img_1, cv2.ROTATE_90_CLOCKWISE)\n",
        "  mask_4 = cv2.rotate(mask_1, cv2.ROTATE_90_CLOCKWISE)\n",
        "  cv2.imwrite(foldimg+idx+\"_4.png\", img_4)\n",
        "  cv2.imwrite(foldmask+idx+\"_4.png\", mask_4)\n",
        "\n",
        "\n",
        "  img_5 = cv2.rotate(img_1, cv2.ROTATE_90_COUNTERCLOCKWISE)\n",
        "  mask_5 = cv2.rotate(mask_1, cv2.ROTATE_90_COUNTERCLOCKWISE)\n",
        "  cv2.imwrite(foldimg+idx+\"_5.png\", img_5)\n",
        "  cv2.imwrite(foldmask+idx+\"_5.png\", mask_5)\n",
        "\n",
        "  img_6 = cv2.rotate(img_1, cv2.ROTATE_180)\n",
        "  mask_6 = cv2.rotate(mask_1, cv2.ROTATE_180)\n",
        "  cv2.imwrite(foldimg+idx+\"_6.png\", img_6)\n",
        "  cv2.imwrite(foldmask+idx+\"_6.png\", mask_6)\n"
      ],
      "metadata": {
        "id": "r7V3BEqE6yKy"
      },
      "execution_count": null,
      "outputs": []
    },
    {
      "cell_type": "code",
      "source": [
        "validimgs = \"/content/drive/MyDrive/APS360_Project/Dataset_Expanded/Fold2/Valid/images/\"\n",
        "validmasks = \"/content/drive/MyDrive/APS360_Project/Dataset_Expanded/Fold2/Valid/masks/\"\n",
        "for input_ID in fold2valid:\n",
        "  # input_ID = train_inps[0]\n",
        "  idx = input_ID.split('.')[0] \n",
        "  img_path = os.path.join(img_root, input_ID) #may need to add in .png at end\n",
        "  img_1 = cv2.imread(img_path,  cv2.IMREAD_GRAYSCALE)\n",
        "\n",
        "  mask_path = os.path.join(mask_root, input_ID) \n",
        "  mask_1 = cv2.imread(mask_path,  cv2.IMREAD_GRAYSCALE)#Image.open(mask_path).convert(\"L\") #grayscale\n",
        "\n",
        "  cv2.imwrite(validimgs+input_ID, img_1)\n",
        "  cv2.imwrite(validmasks+input_ID, mask_1)"
      ],
      "metadata": {
        "id": "sd_Wn02X9MpH"
      },
      "execution_count": null,
      "outputs": []
    },
    {
      "cell_type": "code",
      "source": [
        "len(os.listdir(validmasks))"
      ],
      "metadata": {
        "colab": {
          "base_uri": "https://localhost:8080/"
        },
        "id": "tLyKzkNPFrPT",
        "outputId": "1e71c388-758c-4f9b-8622-a32d02e50500"
      },
      "execution_count": null,
      "outputs": [
        {
          "output_type": "execute_result",
          "data": {
            "text/plain": [
              "129"
            ]
          },
          "metadata": {},
          "execution_count": 44
        }
      ]
    },
    {
      "cell_type": "code",
      "source": [
        "#generating fold 3\n",
        "fold3train = np.concatenate((not_test[:1*valid_size], not_test[2*valid_size:]))\n",
        "fold3valid = not_test[1*valid_size:2*valid_size]\n",
        "print(fold3train.shape)\n",
        "print(fold3valid.shape)\n"
      ],
      "metadata": {
        "colab": {
          "base_uri": "https://localhost:8080/"
        },
        "id": "QqRTyeyV5fu7",
        "outputId": "88adb695-f41f-4614-ca0a-a69cd8625753"
      },
      "execution_count": null,
      "outputs": [
        {
          "output_type": "stream",
          "name": "stdout",
          "text": [
            "(388,)\n",
            "(129,)\n"
          ]
        }
      ]
    },
    {
      "cell_type": "code",
      "source": [
        "foldimg =\"/content/drive/MyDrive/APS360_Project/Dataset_Expanded/Fold3/Train/images/\" #\"/content/drive/MyDrive/APS360_Project/Dataset_Expanded/Fold2/Train/images/\"\n",
        "foldmask = \"/content/drive/MyDrive/APS360_Project/Dataset_Expanded/Fold3/Train/masks/\"\n",
        "\n",
        "for input_ID in fold3train:\n",
        "  # print(input_ID)\n",
        "  idx = input_ID.split('.')[0] \n",
        "  img_path = os.path.join(img_root, input_ID) #may need to add in .png at end\n",
        "  img_1 = cv2.imread(img_path,  cv2.IMREAD_GRAYSCALE)\n",
        "\n",
        "  mask_path = os.path.join(mask_root, input_ID) \n",
        "  mask_1 = cv2.imread(mask_path,  cv2.IMREAD_GRAYSCALE)#Image.open(mask_path).convert(\"L\") #grayscale\n",
        "\n",
        "  cv2.imwrite(foldimg+idx+\"_1.png\", img_1)\n",
        "  cv2.imwrite(foldmask+idx+\"_1.png\", mask_1)\n",
        "\n",
        "  aug1 = A.HorizontalFlip(p=1.0)\n",
        "  aug = aug1(image=img_1, mask=mask_1)\n",
        "  img_2 = aug[\"image\"]\n",
        "  mask_2 = aug[\"mask\"]\n",
        "  cv2.imwrite(foldimg+idx+\"_2.png\", img_2)\n",
        "  cv2.imwrite(foldmask+idx+\"_2.png\", mask_2)\n",
        "\n",
        "  aug2 = A.VerticalFlip(p=1.0)\n",
        "  aug = aug2(image=img_1, mask=mask_1)\n",
        "  img_3 = aug[\"image\"]\n",
        "  mask_3 = aug[\"mask\"]\n",
        "\n",
        "  cv2.imwrite(foldimg+idx+\"_3.png\", img_3)\n",
        "  cv2.imwrite(foldmask+idx+\"_3.png\", mask_3)\n",
        "\n",
        "  img_4 = cv2.rotate(img_1, cv2.ROTATE_90_CLOCKWISE)\n",
        "  mask_4 = cv2.rotate(mask_1, cv2.ROTATE_90_CLOCKWISE)\n",
        "  cv2.imwrite(foldimg+idx+\"_4.png\", img_4)\n",
        "  cv2.imwrite(foldmask+idx+\"_4.png\", mask_4)\n",
        "\n",
        "\n",
        "  img_5 = cv2.rotate(img_1, cv2.ROTATE_90_COUNTERCLOCKWISE)\n",
        "  mask_5 = cv2.rotate(mask_1, cv2.ROTATE_90_COUNTERCLOCKWISE)\n",
        "  cv2.imwrite(foldimg+idx+\"_5.png\", img_5)\n",
        "  cv2.imwrite(foldmask+idx+\"_5.png\", mask_5)\n",
        "\n",
        "  img_6 = cv2.rotate(img_1, cv2.ROTATE_180)\n",
        "  mask_6 = cv2.rotate(mask_1, cv2.ROTATE_180)\n",
        "  cv2.imwrite(foldimg+idx+\"_6.png\", img_6)\n",
        "  cv2.imwrite(foldmask+idx+\"_6.png\", mask_6)\n"
      ],
      "metadata": {
        "id": "dmagjTJJIFMl"
      },
      "execution_count": null,
      "outputs": []
    },
    {
      "cell_type": "code",
      "source": [
        "len(os.listdir(foldimg))"
      ],
      "metadata": {
        "colab": {
          "base_uri": "https://localhost:8080/"
        },
        "id": "tV8rtG8IJpln",
        "outputId": "eaadb135-96b5-4483-f1a0-f306e28f845d"
      },
      "execution_count": null,
      "outputs": [
        {
          "output_type": "execute_result",
          "data": {
            "text/plain": [
              "2295"
            ]
          },
          "metadata": {},
          "execution_count": 125
        }
      ]
    },
    {
      "cell_type": "code",
      "source": [
        "validimgs = \"/content/drive/MyDrive/APS360_Project/Dataset_Expanded/Fold3/Valid/images/\"\n",
        "validmasks = \"/content/drive/MyDrive/APS360_Project/Dataset_Expanded/Fold3/Valid/masks/\"\n",
        "for input_ID in fold3valid:\n",
        "  # input_ID = train_inps[0]\n",
        "  idx = input_ID.split('.')[0] \n",
        "  img_path = os.path.join(img_root, input_ID) #may need to add in .png at end\n",
        "  img_1 = cv2.imread(img_path,  cv2.IMREAD_GRAYSCALE)\n",
        "\n",
        "  mask_path = os.path.join(mask_root, input_ID) \n",
        "  mask_1 = cv2.imread(mask_path,  cv2.IMREAD_GRAYSCALE)#Image.open(mask_path).convert(\"L\") #grayscale\n",
        "\n",
        "  cv2.imwrite(validimgs+input_ID, img_1)\n",
        "  cv2.imwrite(validmasks+input_ID, mask_1)"
      ],
      "metadata": {
        "id": "BmwrxW0LIIIm"
      },
      "execution_count": null,
      "outputs": []
    },
    {
      "cell_type": "code",
      "source": [
        "len(os.listdir(\"/content/drive/MyDrive/APS360_Project/Dataset_Expanded/Fold3/Valid/masks\"))"
      ],
      "metadata": {
        "colab": {
          "base_uri": "https://localhost:8080/"
        },
        "id": "5uJI2j3PKyJJ",
        "outputId": "b7aa82f7-a2cd-403d-ee11-29e39ab8621f"
      },
      "execution_count": null,
      "outputs": [
        {
          "output_type": "execute_result",
          "data": {
            "text/plain": [
              "2"
            ]
          },
          "metadata": {},
          "execution_count": 127
        }
      ]
    },
    {
      "cell_type": "code",
      "source": [
        "#generating fold 4\n",
        "fold4train = not_test[valid_size:]\n",
        "fold4valid = not_test[:valid_size]\n",
        "print(fold4train.shape)\n",
        "print(fold4valid.shape)\n"
      ],
      "metadata": {
        "colab": {
          "base_uri": "https://localhost:8080/"
        },
        "id": "GurBMelW6aML",
        "outputId": "99fc2b7b-c784-4001-af90-47f55b6132f9"
      },
      "execution_count": null,
      "outputs": [
        {
          "output_type": "stream",
          "name": "stdout",
          "text": [
            "(388,)\n",
            "(129,)\n"
          ]
        }
      ]
    },
    {
      "cell_type": "code",
      "source": [
        "foldimg =\"/content/drive/MyDrive/APS360_Project/Dataset_Expanded/Fold4/Train/images/\" #\"/content/drive/MyDrive/APS360_Project/Dataset_Expanded/Fold2/Train/images/\"\n",
        "foldmask = \"/content/drive/MyDrive/APS360_Project/Dataset_Expanded/Fold4/Train/masks/\"\n",
        "\n",
        "for input_ID in fold4train:\n",
        "  # print(input_ID)\n",
        "  idx = input_ID.split('.')[0] \n",
        "  img_path = os.path.join(img_root, input_ID) #may need to add in .png at end\n",
        "  img_1 = cv2.imread(img_path,  cv2.IMREAD_GRAYSCALE)\n",
        "\n",
        "  mask_path = os.path.join(mask_root, input_ID) \n",
        "  mask_1 = cv2.imread(mask_path,  cv2.IMREAD_GRAYSCALE)#Image.open(mask_path).convert(\"L\") #grayscale\n",
        "\n",
        "  cv2.imwrite(foldimg+idx+\"_1.png\", img_1)\n",
        "  cv2.imwrite(foldmask+idx+\"_1.png\", mask_1)\n",
        "\n",
        "  aug1 = A.HorizontalFlip(p=1.0)\n",
        "  aug = aug1(image=img_1, mask=mask_1)\n",
        "  img_2 = aug[\"image\"]\n",
        "  mask_2 = aug[\"mask\"]\n",
        "  cv2.imwrite(foldimg+idx+\"_2.png\", img_2)\n",
        "  cv2.imwrite(foldmask+idx+\"_2.png\", mask_2)\n",
        "\n",
        "  aug2 = A.VerticalFlip(p=1.0)\n",
        "  aug = aug2(image=img_1, mask=mask_1)\n",
        "  img_3 = aug[\"image\"]\n",
        "  mask_3 = aug[\"mask\"]\n",
        "\n",
        "  cv2.imwrite(foldimg+idx+\"_3.png\", img_3)\n",
        "  cv2.imwrite(foldmask+idx+\"_3.png\", mask_3)\n",
        "\n",
        "  img_4 = cv2.rotate(img_1, cv2.ROTATE_90_CLOCKWISE)\n",
        "  mask_4 = cv2.rotate(mask_1, cv2.ROTATE_90_CLOCKWISE)\n",
        "  cv2.imwrite(foldimg+idx+\"_4.png\", img_4)\n",
        "  cv2.imwrite(foldmask+idx+\"_4.png\", mask_4)\n",
        "\n",
        "\n",
        "  img_5 = cv2.rotate(img_1, cv2.ROTATE_90_COUNTERCLOCKWISE)\n",
        "  mask_5 = cv2.rotate(mask_1, cv2.ROTATE_90_COUNTERCLOCKWISE)\n",
        "  cv2.imwrite(foldimg+idx+\"_5.png\", img_5)\n",
        "  cv2.imwrite(foldmask+idx+\"_5.png\", mask_5)\n",
        "\n",
        "  img_6 = cv2.rotate(img_1, cv2.ROTATE_180)\n",
        "  mask_6 = cv2.rotate(mask_1, cv2.ROTATE_180)\n",
        "  cv2.imwrite(foldimg+idx+\"_6.png\", img_6)\n",
        "  cv2.imwrite(foldmask+idx+\"_6.png\", mask_6)\n"
      ],
      "metadata": {
        "id": "0xwIB1UKI9ze"
      },
      "execution_count": null,
      "outputs": []
    },
    {
      "cell_type": "code",
      "source": [
        "validimgs = \"/content/drive/MyDrive/APS360_Project/Dataset_Expanded/Fold4/Valid/images/\"\n",
        "validmasks = \"/content/drive/MyDrive/APS360_Project/Dataset_Expanded/Fold4/Valid/masks/\"\n",
        "for input_ID in fold4valid:\n",
        "  # input_ID = train_inps[0]\n",
        "  idx = input_ID.split('.')[0] \n",
        "  img_path = os.path.join(img_root, input_ID) #may need to add in .png at end\n",
        "  img_1 = cv2.imread(img_path,  cv2.IMREAD_GRAYSCALE)\n",
        "\n",
        "  mask_path = os.path.join(mask_root, input_ID) \n",
        "  mask_1 = cv2.imread(mask_path,  cv2.IMREAD_GRAYSCALE)#Image.open(mask_path).convert(\"L\") #grayscale\n",
        "\n",
        "  cv2.imwrite(validimgs+input_ID, img_1)\n",
        "  cv2.imwrite(validmasks+input_ID, mask_1)"
      ],
      "metadata": {
        "id": "LnGrB6usJCwY"
      },
      "execution_count": null,
      "outputs": []
    },
    {
      "cell_type": "code",
      "source": [],
      "metadata": {
        "id": "0FHZtFdeWfdZ"
      },
      "execution_count": null,
      "outputs": []
    }
  ]
}